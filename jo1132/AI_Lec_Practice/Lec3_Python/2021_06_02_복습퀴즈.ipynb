{
  "nbformat": 4,
  "nbformat_minor": 0,
  "metadata": {
    "colab": {
      "name": "2021_06_02_복습퀴즈.ipynb",
      "provenance": [],
      "authorship_tag": "ABX9TyNBae5dzZ9JUJydxi3JNXut",
      "include_colab_link": true
    },
    "kernelspec": {
      "name": "python3",
      "display_name": "Python 3"
    },
    "language_info": {
      "name": "python"
    }
  },
  "cells": [
    {
      "cell_type": "markdown",
      "metadata": {
        "id": "view-in-github",
        "colab_type": "text"
      },
      "source": [
        "<a href=\"https://colab.research.google.com/github/jo1132/AI_Lec_Practice/blob/jo1132-patch-1/jo1132/AI_Lec_Practice/Lec3_Python/2021_06_02_%EB%B3%B5%EC%8A%B5%ED%80%B4%EC%A6%88.ipynb\" target=\"_parent\"><img src=\"https://colab.research.google.com/assets/colab-badge.svg\" alt=\"Open In Colab\"/></a>"
      ]
    },
    {
      "cell_type": "markdown",
      "metadata": {
        "id": "rR7KScWWElG3"
      },
      "source": [
        "문제1. 변수a에 1, 변수 b에 2를 넣고 두 변수의 합을 구하시오."
      ]
    },
    {
      "cell_type": "code",
      "metadata": {
        "colab": {
          "base_uri": "https://localhost:8080/"
        },
        "id": "oXMoLif2EYyQ",
        "outputId": "7bbfddbe-cc0b-4373-f2d2-42589495e521"
      },
      "source": [
        "a, b = {1,2}\n",
        "print(a+b)"
      ],
      "execution_count": 1,
      "outputs": [
        {
          "output_type": "stream",
          "text": [
            "3\n"
          ],
          "name": "stdout"
        }
      ]
    },
    {
      "cell_type": "code",
      "metadata": {
        "colab": {
          "base_uri": "https://localhost:8080/"
        },
        "id": "1T2YB-7UExTM",
        "outputId": "836ad159-ca4f-4b14-d658-898d00a22cf7"
      },
      "source": [
        "a = 1\n",
        "print(a)"
      ],
      "execution_count": 3,
      "outputs": [
        {
          "output_type": "stream",
          "text": [
            "1\n"
          ],
          "name": "stdout"
        }
      ]
    },
    {
      "cell_type": "code",
      "metadata": {
        "id": "ZfeKtckEE4X6"
      },
      "source": [
        ""
      ],
      "execution_count": null,
      "outputs": []
    },
    {
      "cell_type": "markdown",
      "metadata": {
        "id": "lROzwuZDE-3c"
      },
      "source": [
        "문제2. 주민등록 번호에서 생년 월일을 추출하시오\n",
        "  -변수를 만들어서 주민등록번호를 넣고\n",
        "  - 변수에서 생년월일 위치를 찾아서\n",
        "  - 생년월일을 출력"
      ]
    },
    {
      "cell_type": "code",
      "metadata": {
        "colab": {
          "base_uri": "https://localhost:8080/"
        },
        "id": "DK9X1EIaFKsc",
        "outputId": "cb97b807-500c-4acf-8ec4-ea81f67e6644"
      },
      "source": [
        "num = \"123456-1234567\"\n",
        "a = num.split('-')[0] #a == 123456\n",
        "year = a[:2]\n",
        "month = a[2:4]\n",
        "day = a[4:]\n",
        "print(year, \"년\", month, \"월\", day, \"일\")"
      ],
      "execution_count": 7,
      "outputs": [
        {
          "output_type": "stream",
          "text": [
            "12 년 34 월 56 일\n"
          ],
          "name": "stdout"
        }
      ]
    },
    {
      "cell_type": "code",
      "metadata": {
        "id": "BhGSjrTuFXd6"
      },
      "source": [
        ""
      ],
      "execution_count": null,
      "outputs": []
    },
    {
      "cell_type": "markdown",
      "metadata": {
        "id": "QcuVAM77F4km"
      },
      "source": [
        "문제3. 변수a에는 \"20010331Rainy\"가 있다.\n",
        "        - 날자는 date변수에\n",
        "        - 날씨는 weather변수에 넣으시오"
      ]
    },
    {
      "cell_type": "code",
      "metadata": {
        "colab": {
          "base_uri": "https://localhost:8080/"
        },
        "id": "OWlWxDD2GRcE",
        "outputId": "ba801d39-eab7-41fd-e4e7-c65c45f0d814"
      },
      "source": [
        "a = \"20010331Rainy\"\n",
        "date = \"\"\n",
        "weather = \"\"\n",
        "for i in a:\n",
        "  if i.isdigit(): date += i\n",
        "  else: weather += i\n",
        "\n",
        "print(\"date: \", date)\n",
        "print(\"weather: \", weather)"
      ],
      "execution_count": 10,
      "outputs": [
        {
          "output_type": "stream",
          "text": [
            "date:  20010331\n",
            "weather:  Rainy\n"
          ],
          "name": "stdout"
        }
      ]
    },
    {
      "cell_type": "code",
      "metadata": {
        "id": "tDZVO4slGxov"
      },
      "source": [
        ""
      ],
      "execution_count": null,
      "outputs": []
    },
    {
      "cell_type": "markdown",
      "metadata": {
        "id": "7eQNyLkmG_yc"
      },
      "source": [
        "문제4. 변수 a에는 \"Pithon\"이 있다. \n",
        "\"Python\"으로 바꾸시오"
      ]
    },
    {
      "cell_type": "code",
      "metadata": {
        "colab": {
          "base_uri": "https://localhost:8080/"
        },
        "id": "YFYseKvDHFvG",
        "outputId": "8c273f2b-6ad4-4185-e1c5-940cad39f7f4"
      },
      "source": [
        "a = \"Pithon\"\n",
        "txt = a.maketrans('i', 'y')\n",
        "a = a.translate(txt)\n",
        "print(a)"
      ],
      "execution_count": 15,
      "outputs": [
        {
          "output_type": "stream",
          "text": [
            "Python\n"
          ],
          "name": "stdout"
        }
      ]
    },
    {
      "cell_type": "code",
      "metadata": {
        "colab": {
          "base_uri": "https://localhost:8080/"
        },
        "id": "7MMQGECsHWeS",
        "outputId": "05f367da-0c6d-4f21-90d2-a46b6f7ecc76"
      },
      "source": [
        "a = \"Pithon\"\n",
        "new = a[0] + 'y' + a[2:]\n",
        "print(new)"
      ],
      "execution_count": 16,
      "outputs": [
        {
          "output_type": "stream",
          "text": [
            "Python\n"
          ],
          "name": "stdout"
        }
      ]
    },
    {
      "cell_type": "code",
      "metadata": {
        "id": "BJv8rS8eH3RU"
      },
      "source": [
        ""
      ],
      "execution_count": null,
      "outputs": []
    },
    {
      "cell_type": "markdown",
      "metadata": {
        "id": "VI9OeD5IH7YS"
      },
      "source": [
        "문제5. [1, 2, [''a','b',['Life', is']]]값을 갖는 리스트 a를 생성하고, a에서 Life값을 추출하라"
      ]
    },
    {
      "cell_type": "code",
      "metadata": {
        "colab": {
          "base_uri": "https://localhost:8080/"
        },
        "id": "zj5LR9f1IHXJ",
        "outputId": "6487ca3d-c79f-4734-dfb7-bff69976f7f8"
      },
      "source": [
        "a = [1, 2, ['a','b',['Life', 'is']]]\n",
        "print(a[2][2][0])"
      ],
      "execution_count": 19,
      "outputs": [
        {
          "output_type": "stream",
          "text": [
            "Life\n"
          ],
          "name": "stdout"
        }
      ]
    },
    {
      "cell_type": "code",
      "metadata": {
        "colab": {
          "base_uri": "https://localhost:8080/",
          "height": 226
        },
        "id": "PtduZx6_ILMU",
        "outputId": "15ad7638-84ee-4362-8cc3-5ccde57f1779"
      },
      "source": [
        "for i in range(len(a)):\n",
        "  for j in range(len(a[i])):    #int일때는 안되네 힝구힝구\n",
        "    if(not (a[i][j].islower())):\n",
        "      print(a[i][j])"
      ],
      "execution_count": 22,
      "outputs": [
        {
          "output_type": "error",
          "ename": "TypeError",
          "evalue": "ignored",
          "traceback": [
            "\u001b[0;31m---------------------------------------------------------------------------\u001b[0m",
            "\u001b[0;31mTypeError\u001b[0m                                 Traceback (most recent call last)",
            "\u001b[0;32m<ipython-input-22-d6a68b592d99>\u001b[0m in \u001b[0;36m<module>\u001b[0;34m()\u001b[0m\n\u001b[1;32m      1\u001b[0m \u001b[0;32mfor\u001b[0m \u001b[0mi\u001b[0m \u001b[0;32min\u001b[0m \u001b[0mrange\u001b[0m\u001b[0;34m(\u001b[0m\u001b[0mlen\u001b[0m\u001b[0;34m(\u001b[0m\u001b[0ma\u001b[0m\u001b[0;34m)\u001b[0m\u001b[0;34m)\u001b[0m\u001b[0;34m:\u001b[0m\u001b[0;34m\u001b[0m\u001b[0;34m\u001b[0m\u001b[0m\n\u001b[0;32m----> 2\u001b[0;31m   \u001b[0;32mfor\u001b[0m \u001b[0mj\u001b[0m \u001b[0;32min\u001b[0m \u001b[0mrange\u001b[0m\u001b[0;34m(\u001b[0m\u001b[0mlen\u001b[0m\u001b[0;34m(\u001b[0m\u001b[0ma\u001b[0m\u001b[0;34m[\u001b[0m\u001b[0mi\u001b[0m\u001b[0;34m]\u001b[0m\u001b[0;34m)\u001b[0m\u001b[0;34m)\u001b[0m\u001b[0;34m:\u001b[0m\u001b[0;34m\u001b[0m\u001b[0;34m\u001b[0m\u001b[0m\n\u001b[0m\u001b[1;32m      3\u001b[0m     \u001b[0;32mif\u001b[0m\u001b[0;34m(\u001b[0m\u001b[0;32mnot\u001b[0m \u001b[0;34m(\u001b[0m\u001b[0ma\u001b[0m\u001b[0;34m[\u001b[0m\u001b[0mi\u001b[0m\u001b[0;34m]\u001b[0m\u001b[0;34m[\u001b[0m\u001b[0mj\u001b[0m\u001b[0;34m]\u001b[0m\u001b[0;34m.\u001b[0m\u001b[0mislower\u001b[0m\u001b[0;34m(\u001b[0m\u001b[0;34m)\u001b[0m\u001b[0;34m)\u001b[0m\u001b[0;34m)\u001b[0m\u001b[0;34m:\u001b[0m\u001b[0;34m\u001b[0m\u001b[0;34m\u001b[0m\u001b[0m\n\u001b[1;32m      4\u001b[0m       \u001b[0mprint\u001b[0m\u001b[0;34m(\u001b[0m\u001b[0ma\u001b[0m\u001b[0;34m[\u001b[0m\u001b[0mi\u001b[0m\u001b[0;34m]\u001b[0m\u001b[0;34m[\u001b[0m\u001b[0mj\u001b[0m\u001b[0;34m]\u001b[0m\u001b[0;34m)\u001b[0m\u001b[0;34m\u001b[0m\u001b[0;34m\u001b[0m\u001b[0m\n",
            "\u001b[0;31mTypeError\u001b[0m: object of type 'int' has no len()"
          ]
        }
      ]
    },
    {
      "cell_type": "code",
      "metadata": {
        "id": "uZA6OAuZIj2I"
      },
      "source": [
        ""
      ],
      "execution_count": null,
      "outputs": []
    }
  ]
}