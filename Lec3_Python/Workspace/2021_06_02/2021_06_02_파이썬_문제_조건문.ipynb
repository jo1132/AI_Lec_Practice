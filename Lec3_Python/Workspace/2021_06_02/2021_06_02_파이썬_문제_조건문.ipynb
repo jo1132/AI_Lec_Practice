{
  "nbformat": 4,
  "nbformat_minor": 0,
  "metadata": {
    "colab": {
      "name": "2021_06_02_파이썬_문제_조건문.ipynb",
      "provenance": [],
      "collapsed_sections": []
    },
    "kernelspec": {
      "name": "python3",
      "display_name": "Python 3"
    },
    "language_info": {
      "name": "python"
    }
  },
  "cells": [
    {
      "cell_type": "markdown",
      "metadata": {
        "id": "dXEi5mLevo4J"
      },
      "source": [
        "###**(조건문_04)**\n",
        "나이와 점수를 입력받아 나이 20살 이상, 성적 80점 이상만 합격 처리하시오.\n",
        "메시지는 합격입니다. 점수가 낮아서 불합격입니다. 나이가 어려서 불합격입니다."
      ]
    },
    {
      "cell_type": "code",
      "metadata": {
        "colab": {
          "base_uri": "https://localhost:8080/"
        },
        "id": "IFVOb01ppAlX",
        "outputId": "737edb64-f4b2-42cc-b5cc-4aa1358936b7"
      },
      "source": [
        "age = int(input(\"나이를 입력해주세요\"))\n",
        "if(age>=20):\n",
        "  point = int(input(\"점수를 입력해 주세요\"))\n",
        "  if(point>=80): print(\"합격입니다~\")\n",
        "  else: print(\"점수가 부족합니다.\")\n",
        "else: print(\"나이가 너무 어립니다.\")"
      ],
      "execution_count": 7,
      "outputs": [
        {
          "output_type": "stream",
          "text": [
            "나이를 입력해주세요20\n",
            "점수를 입력해 주세요80\n",
            "합격입니다~\n"
          ],
          "name": "stdout"
        }
      ]
    },
    {
      "cell_type": "code",
      "metadata": {
        "id": "o93LPg06wkmB"
      },
      "source": [
        ""
      ],
      "execution_count": null,
      "outputs": []
    },
    {
      "cell_type": "markdown",
      "metadata": {
        "id": "nRBsj1SU1lNj"
      },
      "source": [
        "###(실습10) for, if, range, type 혼합\n",
        "6개의 원소를 [1, 9, 'one', 'two', 3, 'three']\n",
        "같는 val을 만들고, \n",
        "문제1. 마지막 원소를 자기이름으로 바꾼다.\n",
        "문제2. 4번째 인덱스를 같는 원소를 출력\n",
        "문제3. 리스트의 첫번째 문자열(\"데이터\")를 출력하시오.\n"
      ]
    },
    {
      "cell_type": "code",
      "metadata": {
        "colab": {
          "base_uri": "https://localhost:8080/"
        },
        "id": "einjwbDz1_rS",
        "outputId": "9ef61120-5537-425a-b103-2d69a2450080"
      },
      "source": [
        "var = [1, 9, 'one', 'two', 3, 'three']\n",
        "#_____________________문제1\n",
        "var[-1] = \"HK-Jo\"\n",
        "print(var)\n",
        "\n",
        "#_____________________문제2\n",
        "print(var[3])\n",
        "\n",
        "#______________________문제3\n",
        "for i in  var:\n",
        "  if(type(i) == str):\n",
        "    print(i)\n",
        "    break"
      ],
      "execution_count": 13,
      "outputs": [
        {
          "output_type": "stream",
          "text": [
            "[1, 9, 'one', 'two', 3, 'HK-Jo']\n",
            "two\n",
            "one\n"
          ],
          "name": "stdout"
        }
      ]
    },
    {
      "cell_type": "code",
      "metadata": {
        "id": "k_45EgwS2qOu"
      },
      "source": [
        ""
      ],
      "execution_count": null,
      "outputs": []
    }
  ]
}