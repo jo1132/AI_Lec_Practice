{
  "nbformat": 4,
  "nbformat_minor": 0,
  "metadata": {
    "colab": {
      "name": "2021_06_02_데이터입출력.ipynb",
      "provenance": [],
      "collapsed_sections": []
    },
    "kernelspec": {
      "name": "python3",
      "display_name": "Python 3"
    },
    "language_info": {
      "name": "python"
    }
  },
  "cells": [
    {
      "cell_type": "code",
      "metadata": {
        "colab": {
          "base_uri": "https://localhost:8080/"
        },
        "id": "apdp9-8FII_r",
        "outputId": "517f8d93-7396-434a-dfb7-7ba4ad2eb037"
      },
      "source": [
        "fp = open(\"fruit.txt\", \"wt\")\n",
        "fp"
      ],
      "execution_count": 2,
      "outputs": [
        {
          "output_type": "execute_result",
          "data": {
            "text/plain": [
              "<_io.TextIOWrapper name='fruit.txt' mode='wt' encoding='UTF-8'>"
            ]
          },
          "metadata": {
            "tags": []
          },
          "execution_count": 2
        }
      ]
    },
    {
      "cell_type": "code",
      "metadata": {
        "colab": {
          "base_uri": "https://localhost:8080/"
        },
        "id": "_Y5JSa6jJWwf",
        "outputId": "25608cd8-9550-497a-afa9-26a5ffcd9ab3"
      },
      "source": [
        "fruit = {\n",
        "    \"apple\" : 3500,\n",
        "    \"peer\" : 2500,\n",
        "    \"cherry\" : 5000\n",
        "}\n",
        "\n",
        "for item in fruit.items():\n",
        "  print(\"item = \", item) # 화면에 프린트한다\n",
        "  print(item, file=fp) # 파일(fp)에 프린트한다.\n",
        "fp.close()"
      ],
      "execution_count": 3,
      "outputs": [
        {
          "output_type": "stream",
          "text": [
            "item =  ('apple', 3500)\n",
            "item =  ('peer', 2500)\n",
            "item =  ('cherry', 5000)\n"
          ],
          "name": "stdout"
        }
      ]
    },
    {
      "cell_type": "code",
      "metadata": {
        "id": "FS6M_hcyJznd"
      },
      "source": [
        ""
      ],
      "execution_count": null,
      "outputs": []
    },
    {
      "cell_type": "markdown",
      "metadata": {
        "id": "TB5KdEdvL4MV"
      },
      "source": [
        "### open(), write() 출력"
      ]
    },
    {
      "cell_type": "code",
      "metadata": {
        "id": "Hnali-54L7vs"
      },
      "source": [
        "fp2 = open(\"fruit.txt\", \"wt\")\n",
        "fp2.write(\"apple 3500\\n\")\n",
        "fp2.write(\"peer 2500\\n\")\n",
        "fp2.write(\"cherry 5000\\n\")\n",
        "fp2.close()"
      ],
      "execution_count": 5,
      "outputs": []
    },
    {
      "cell_type": "code",
      "metadata": {
        "id": "1LYR4jo4MNcD"
      },
      "source": [
        "fp2a = open(\"fruit.txt\", \"wt\")\n",
        "fp2a.write(\"apple 3500\")\n",
        "fp2a.write(\"peer 2500\")\n",
        "fp2a.write(\"cherry 5000\")\n",
        "fp2a.close()"
      ],
      "execution_count": 7,
      "outputs": []
    },
    {
      "cell_type": "code",
      "metadata": {
        "id": "sxdso5lWMdet"
      },
      "source": [
        ""
      ],
      "execution_count": null,
      "outputs": []
    },
    {
      "cell_type": "markdown",
      "metadata": {
        "id": "zh4DeJbfNGIB"
      },
      "source": [
        "###**csv파일 출력** \n",
        "1. comma separated values(CSV)\n"
      ]
    },
    {
      "cell_type": "code",
      "metadata": {
        "id": "PWfSj7uTNJD8"
      },
      "source": [
        "import csv\n",
        "\n",
        "with open(\"fruit3.csv\", \"w\", newline=\"\") as fp3:\n",
        "  writer = csv.writer(fp3, delimiter=\",\")\n",
        "  writer.writerow([\"apple\"])\n",
        "  writer.writerow([\"peer\"])\n",
        "  writer.writerow([\"1111\"])\n",
        "  writer.writerow([\"2222\"])\n",
        "  writer.writerow([\"3333\"])\n",
        "  writer.writerow([\"4444\"])\n"
      ],
      "execution_count": 10,
      "outputs": []
    },
    {
      "cell_type": "code",
      "metadata": {
        "id": "VGng4r2GOGOC"
      },
      "source": [
        ""
      ],
      "execution_count": null,
      "outputs": []
    },
    {
      "cell_type": "markdown",
      "metadata": {
        "id": "XXMoeBu3Piei"
      },
      "source": [
        "###(txt) 파일 읽어오기"
      ]
    },
    {
      "cell_type": "code",
      "metadata": {
        "colab": {
          "base_uri": "https://localhost:8080/"
        },
        "id": "T8eHqHBVPjrN",
        "outputId": "870bef8b-3d85-4b2b-f858-b012c40c6b81"
      },
      "source": [
        "rfp = open(\"fruit.txt\", \"rt\")\n",
        "\n",
        "str = rfp.readlines()\n",
        "print(str)"
      ],
      "execution_count": 13,
      "outputs": [
        {
          "output_type": "stream",
          "text": [
            "['apple 3500peer 2500cherry 5000']\n"
          ],
          "name": "stdout"
        }
      ]
    },
    {
      "cell_type": "code",
      "metadata": {
        "id": "-hlrmM2tPvZ-"
      },
      "source": [
        ""
      ],
      "execution_count": null,
      "outputs": []
    },
    {
      "cell_type": "markdown",
      "metadata": {
        "id": "9nJnGAu2Qa7B"
      },
      "source": [
        "###**CSV파일 읽기**"
      ]
    },
    {
      "cell_type": "code",
      "metadata": {
        "colab": {
          "base_uri": "https://localhost:8080/"
        },
        "id": "N0IFnsJ1QfOm",
        "outputId": "3aacf9e8-1733-4458-d355-e4b9f8ef44aa"
      },
      "source": [
        "rfp3 = open(\"fruit3.csv\", \"rt\")\n",
        "csvread = csv.reader(rfp3)\n",
        "csvread"
      ],
      "execution_count": 14,
      "outputs": [
        {
          "output_type": "execute_result",
          "data": {
            "text/plain": [
              "<_csv.reader at 0x7f8fc907f5d0>"
            ]
          },
          "metadata": {
            "tags": []
          },
          "execution_count": 14
        }
      ]
    },
    {
      "cell_type": "code",
      "metadata": {
        "colab": {
          "base_uri": "https://localhost:8080/"
        },
        "id": "ygjoJfa2Qtii",
        "outputId": "84b81404-c6ed-445f-a801-6587fedaa0a3"
      },
      "source": [
        "list(csvread)"
      ],
      "execution_count": 15,
      "outputs": [
        {
          "output_type": "execute_result",
          "data": {
            "text/plain": [
              "[['apple'], ['peer'], ['1111'], ['2222'], ['3333'], ['4444']]"
            ]
          },
          "metadata": {
            "tags": []
          },
          "execution_count": 15
        }
      ]
    },
    {
      "cell_type": "code",
      "metadata": {
        "id": "o9Uvdwy5Q0CX"
      },
      "source": [
        "for i in csvread: #위 list에서 사용한후, 출력이안됨 -> 한벙사용하면 사라지는 휘발성이다.\n",
        "  print(i)"
      ],
      "execution_count": 16,
      "outputs": []
    },
    {
      "cell_type": "code",
      "metadata": {
        "id": "hIPxoRNZQ6uz"
      },
      "source": [
        ""
      ],
      "execution_count": null,
      "outputs": []
    }
  ]
}