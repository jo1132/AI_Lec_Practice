{
  "nbformat": 4,
  "nbformat_minor": 0,
  "metadata": {
    "colab": {
      "name": "2021_06_02_조건문_반복문.ipynb",
      "provenance": [],
      "authorship_tag": "ABX9TyMi6ReZKTEZeyfnj9c+LI7X",
      "include_colab_link": true
    },
    "kernelspec": {
      "name": "python3",
      "display_name": "Python 3"
    },
    "language_info": {
      "name": "python"
    }
  },
  "cells": [
    {
      "cell_type": "markdown",
      "metadata": {
        "id": "view-in-github",
        "colab_type": "text"
      },
      "source": [
        "<a href=\"https://colab.research.google.com/github/jo1132/AI_Lec_Practice/blob/jo1132-patch-1/Lec3_Python/2021_06_02/2021_06_02_%EC%A1%B0%EA%B1%B4%EB%AC%B8_%EB%B0%98%EB%B3%B5%EB%AC%B8.ipynb\" target=\"_parent\"><img src=\"https://colab.research.google.com/assets/colab-badge.svg\" alt=\"Open In Colab\"/></a>"
      ]
    },
    {
      "cell_type": "markdown",
      "metadata": {
        "id": "9kf6p1_YKnER"
      },
      "source": [
        "###조건문 파트"
      ]
    },
    {
      "cell_type": "code",
      "metadata": {
        "colab": {
          "base_uri": "https://localhost:8080/"
        },
        "id": "YUNYBdaxKI0K",
        "outputId": "4463d864-086c-4980-cd22-cff49b64d1fa"
      },
      "source": [
        "a = [10, 20, 30]\n",
        "b = [5, 15, 25]\n",
        "\n",
        "a == b"
      ],
      "execution_count": 4,
      "outputs": [
        {
          "output_type": "execute_result",
          "data": {
            "text/plain": [
              "False"
            ]
          },
          "metadata": {
            "tags": []
          },
          "execution_count": 4
        }
      ]
    },
    {
      "cell_type": "code",
      "metadata": {
        "colab": {
          "base_uri": "https://localhost:8080/"
        },
        "id": "but75DtIK223",
        "outputId": "ee219ad9-352e-4f13-fc8d-ed55672b61eb"
      },
      "source": [
        "a != b"
      ],
      "execution_count": 2,
      "outputs": [
        {
          "output_type": "execute_result",
          "data": {
            "text/plain": [
              "True"
            ]
          },
          "metadata": {
            "tags": []
          },
          "execution_count": 2
        }
      ]
    },
    {
      "cell_type": "code",
      "metadata": {
        "colab": {
          "base_uri": "https://localhost:8080/"
        },
        "id": "LLidtnvKK4QH",
        "outputId": "d420f1f2-eb59-4355-ae2c-69405b207e3e"
      },
      "source": [
        "10 in a"
      ],
      "execution_count": 6,
      "outputs": [
        {
          "output_type": "execute_result",
          "data": {
            "text/plain": [
              "True"
            ]
          },
          "metadata": {
            "tags": []
          },
          "execution_count": 6
        }
      ]
    },
    {
      "cell_type": "code",
      "metadata": {
        "colab": {
          "base_uri": "https://localhost:8080/"
        },
        "id": "JKqEtBawK7V2",
        "outputId": "14fab0e4-de56-4c8f-8b45-751668c71853"
      },
      "source": [
        "a in [10, 20, 30]"
      ],
      "execution_count": 7,
      "outputs": [
        {
          "output_type": "execute_result",
          "data": {
            "text/plain": [
              "False"
            ]
          },
          "metadata": {
            "tags": []
          },
          "execution_count": 7
        }
      ]
    },
    {
      "cell_type": "code",
      "metadata": {
        "colab": {
          "base_uri": "https://localhost:8080/"
        },
        "id": "uYNevw_tLFHO",
        "outputId": "9f0b2fe4-2088-47f8-e6f6-f58068ffc8c4"
      },
      "source": [
        "a in [[10, 20, 30]]"
      ],
      "execution_count": 8,
      "outputs": [
        {
          "output_type": "execute_result",
          "data": {
            "text/plain": [
              "True"
            ]
          },
          "metadata": {
            "tags": []
          },
          "execution_count": 8
        }
      ]
    },
    {
      "cell_type": "code",
      "metadata": {
        "colab": {
          "base_uri": "https://localhost:8080/"
        },
        "id": "cIcoJjkcLKlP",
        "outputId": "ed646ad6-c3f5-433e-de1d-d75f0a68f742"
      },
      "source": [
        "c = a\n",
        "c == a"
      ],
      "execution_count": 9,
      "outputs": [
        {
          "output_type": "execute_result",
          "data": {
            "text/plain": [
              "True"
            ]
          },
          "metadata": {
            "tags": []
          },
          "execution_count": 9
        }
      ]
    },
    {
      "cell_type": "code",
      "metadata": {
        "colab": {
          "base_uri": "https://localhost:8080/"
        },
        "id": "Saups4L5LOlx",
        "outputId": "21045896-569b-48d2-ea5a-f650b3734398"
      },
      "source": [
        "b == a"
      ],
      "execution_count": 10,
      "outputs": [
        {
          "output_type": "execute_result",
          "data": {
            "text/plain": [
              "False"
            ]
          },
          "metadata": {
            "tags": []
          },
          "execution_count": 10
        }
      ]
    },
    {
      "cell_type": "code",
      "metadata": {
        "colab": {
          "base_uri": "https://localhost:8080/"
        },
        "id": "fLrZC9jVLSve",
        "outputId": "77f3e224-5d9a-459c-90dd-ad39a414c99e"
      },
      "source": [
        "print(a==b)\n",
        "print(a==c)\n",
        "print((a==b) and (a==c))\n",
        "print((a==b) or (a==c))\n",
        "\n",
        "print(not(a==b) and (a==c))\n",
        "print((a==b) or not(a==c))"
      ],
      "execution_count": 14,
      "outputs": [
        {
          "output_type": "stream",
          "text": [
            "False\n",
            "True\n",
            "False\n",
            "True\n",
            "True\n",
            "False\n"
          ],
          "name": "stdout"
        }
      ]
    },
    {
      "cell_type": "code",
      "metadata": {
        "id": "8zpJQ1osLWFF"
      },
      "source": [
        ""
      ],
      "execution_count": null,
      "outputs": []
    },
    {
      "cell_type": "markdown",
      "metadata": {
        "id": "QFXSdP82MQgP"
      },
      "source": [
        "##(if 문)\n",
        "1. if(연산자로 조건만들기):\n",
        "    내용\n",
        "2. else :\n",
        "    if조건이 아닐때 할 행동\n",
        "  "
      ]
    },
    {
      "cell_type": "code",
      "metadata": {
        "colab": {
          "base_uri": "https://localhost:8080/"
        },
        "id": "jixrtArfMc0t",
        "outputId": "4fc56712-e0e0-4693-da10-7be398e07ffe"
      },
      "source": [
        "python = True\n",
        "if(python): \n",
        "  print(\"참입니다.\")\n",
        "else: print(\"asdf\")"
      ],
      "execution_count": 25,
      "outputs": [
        {
          "output_type": "stream",
          "text": [
            "참입니다.\n"
          ],
          "name": "stdout"
        }
      ]
    },
    {
      "cell_type": "code",
      "metadata": {
        "id": "TC9xkw1TMk2p"
      },
      "source": [
        ""
      ],
      "execution_count": null,
      "outputs": []
    },
    {
      "cell_type": "markdown",
      "metadata": {
        "id": "Kkl7wvaINVYD"
      },
      "source": [
        "3. elif (조건): 내용\n",
        "if에서 거짓일때 \n",
        "elif조건으로 넘어가 다시 검사한다."
      ]
    },
    {
      "cell_type": "code",
      "metadata": {
        "colab": {
          "base_uri": "https://localhost:8080/"
        },
        "id": "8J0iCIrhNdQ_",
        "outputId": "4542fbc9-d408-4a42-f85a-69a7bcde3dba"
      },
      "source": [
        "a = False\n",
        "b = True\n",
        "if(a):\n",
        "  print(\"a는 참\")\n",
        "elif(b):\n",
        "  print(\"a는 참이 아님, b는 참\")\n",
        "else:\n",
        "  print(\"a, b둘다 거짓\")"
      ],
      "execution_count": 26,
      "outputs": [
        {
          "output_type": "stream",
          "text": [
            "a는 참이 아님, b는 참\n"
          ],
          "name": "stdout"
        }
      ]
    },
    {
      "cell_type": "code",
      "metadata": {
        "id": "gmbrtfnJRSRf"
      },
      "source": [
        ""
      ],
      "execution_count": null,
      "outputs": []
    },
    {
      "cell_type": "markdown",
      "metadata": {
        "id": "oJ9aatuRSdTJ"
      },
      "source": [
        "###Input()"
      ]
    },
    {
      "cell_type": "code",
      "metadata": {
        "colab": {
          "base_uri": "https://localhost:8080/",
          "height": 53
        },
        "id": "RTUNtiQtSgvF",
        "outputId": "b5f22247-5da1-4c2d-fe37-d84f0c40921f"
      },
      "source": [
        "input()"
      ],
      "execution_count": 28,
      "outputs": [
        {
          "output_type": "stream",
          "text": [
            "12\n"
          ],
          "name": "stdout"
        },
        {
          "output_type": "execute_result",
          "data": {
            "application/vnd.google.colaboratory.intrinsic+json": {
              "type": "string"
            },
            "text/plain": [
              "'12'"
            ]
          },
          "metadata": {
            "tags": []
          },
          "execution_count": 28
        }
      ]
    },
    {
      "cell_type": "code",
      "metadata": {
        "colab": {
          "base_uri": "https://localhost:8080/",
          "height": 53
        },
        "id": "4sw6APYSSiSU",
        "outputId": "e34c6d1c-740c-4e73-b45d-e2ef1b62b788"
      },
      "source": [
        "input(\"숫자는?\")"
      ],
      "execution_count": 29,
      "outputs": [
        {
          "output_type": "stream",
          "text": [
            "숫자는?123\n"
          ],
          "name": "stdout"
        },
        {
          "output_type": "execute_result",
          "data": {
            "application/vnd.google.colaboratory.intrinsic+json": {
              "type": "string"
            },
            "text/plain": [
              "'123'"
            ]
          },
          "metadata": {
            "tags": []
          },
          "execution_count": 29
        }
      ]
    },
    {
      "cell_type": "code",
      "metadata": {
        "colab": {
          "base_uri": "https://localhost:8080/"
        },
        "id": "d3hKk0jYSwAl",
        "outputId": "d07ad92f-d2ee-4d60-acbd-39f03784439a"
      },
      "source": [
        "x = input(\"x는?\")\n",
        "print(\"x\", x)"
      ],
      "execution_count": 30,
      "outputs": [
        {
          "output_type": "stream",
          "text": [
            "x는?11234\n",
            "x 11234\n"
          ],
          "name": "stdout"
        }
      ]
    },
    {
      "cell_type": "code",
      "metadata": {
        "id": "2iAIW1mJS4XB"
      },
      "source": [
        ""
      ],
      "execution_count": null,
      "outputs": []
    },
    {
      "cell_type": "markdown",
      "metadata": {
        "id": "52LkaH5FTb_t"
      },
      "source": [
        "퀴즈. 화면에서 숫자를 입력받아 , 양수면 \"양수\", 음수면 \"음수\"출력"
      ]
    },
    {
      "cell_type": "code",
      "metadata": {
        "colab": {
          "base_uri": "https://localhost:8080/"
        },
        "id": "uTVekJOLThm6",
        "outputId": "88c03772-2bbc-4d50-8f5f-e20d3ca7eeee"
      },
      "source": [
        "x = int(input(\"숫자를 입력해주세여\"))\n",
        "if(x > 0): print(\"양수\")\n",
        "elif(x == 0): print(\"0\")\n",
        "else: print(\"음수\")"
      ],
      "execution_count": 35,
      "outputs": [
        {
          "output_type": "stream",
          "text": [
            "숫자를 입력해주세여0\n",
            "0\n"
          ],
          "name": "stdout"
        }
      ]
    },
    {
      "cell_type": "code",
      "metadata": {
        "colab": {
          "base_uri": "https://localhost:8080/"
        },
        "id": "pM3n7sW6Tsdm",
        "outputId": "c850a60f-cd80-41a5-f620-512d08de97cc"
      },
      "source": [
        "###홀수 짝수\n",
        "x = int(input(\"숫자를 입력해주세여\"))\n",
        "if(x % 2 == 0): print(\"짝수\")\n",
        "else: print(\"홀수\")"
      ],
      "execution_count": 37,
      "outputs": [
        {
          "output_type": "stream",
          "text": [
            "숫자를 입력해주세여10\n",
            "짝수\n"
          ],
          "name": "stdout"
        }
      ]
    },
    {
      "cell_type": "code",
      "metadata": {
        "colab": {
          "base_uri": "https://localhost:8080/"
        },
        "id": "sY9TU_oxUHr6",
        "outputId": "b78def2d-774f-4385-ec63-ee68200997cc"
      },
      "source": [
        "# 화면에서 점수를 입력받아 성적표시하시오\n",
        "point = int(input(\"성적을 입력하세요\"))\n",
        "if(point >= 90): print(\"A\")\n",
        "elif(point >= 80): print(\"B\")\n",
        "elif(point >= 70): print(\"C\")\n",
        "else: print(\"D\")"
      ],
      "execution_count": 40,
      "outputs": [
        {
          "output_type": "stream",
          "text": [
            "성적을 입력하세요80\n",
            "B\n"
          ],
          "name": "stdout"
        }
      ]
    },
    {
      "cell_type": "code",
      "metadata": {
        "id": "UiBqEFCIWOKr"
      },
      "source": [
        ""
      ],
      "execution_count": 40,
      "outputs": []
    },
    {
      "cell_type": "markdown",
      "metadata": {
        "id": "xqfBVUtxXclo"
      },
      "source": [
        "##(반복문)"
      ]
    },
    {
      "cell_type": "code",
      "metadata": {
        "colab": {
          "base_uri": "https://localhost:8080/"
        },
        "id": "PcnBpeuGXgzI",
        "outputId": "a9bc2cf6-71c0-438e-b4df-90876b4d4aa7"
      },
      "source": [
        "a = [1, 2, 3, 4, 5, 6, 7, 8, 9, 10]\n",
        "print(a[0]*2)\n",
        "print(a[1]*2)\n",
        "print(a[2]*2)\n",
        "\n",
        "for i in a:\n",
        "  print(i*2)\n",
        "##.........\n",
        "\n",
        "\n"
      ],
      "execution_count": 44,
      "outputs": [
        {
          "output_type": "stream",
          "text": [
            "2\n",
            "4\n",
            "6\n",
            "2\n",
            "4\n",
            "6\n",
            "8\n",
            "10\n",
            "12\n",
            "14\n",
            "16\n",
            "18\n",
            "20\n"
          ],
          "name": "stdout"
        }
      ]
    },
    {
      "cell_type": "code",
      "metadata": {
        "colab": {
          "base_uri": "https://localhost:8080/"
        },
        "id": "zIc4vGVOXvss",
        "outputId": "029446b6-d59d-42ca-8ef4-4920f7c055b7"
      },
      "source": [
        "a = []\n",
        "b = []\n",
        "for i in range(20):\n",
        "  a.append(i)\n",
        "print(a)\n",
        "\n",
        "b = list(range(20))   #굳이 반복문을 안써도 된다.\n",
        "print(b)"
      ],
      "execution_count": 46,
      "outputs": [
        {
          "output_type": "stream",
          "text": [
            "[0, 1, 2, 3, 4, 5, 6, 7, 8, 9, 10, 11, 12, 13, 14, 15, 16, 17, 18, 19]\n",
            "[0, 1, 2, 3, 4, 5, 6, 7, 8, 9, 10, 11, 12, 13, 14, 15, 16, 17, 18, 19]\n"
          ],
          "name": "stdout"
        }
      ]
    },
    {
      "cell_type": "code",
      "metadata": {
        "colab": {
          "base_uri": "https://localhost:8080/"
        },
        "id": "AO4MZPbTZfLj",
        "outputId": "428608e5-48d1-4551-d750-8b0d32c693f0"
      },
      "source": [
        "range(1, 10)"
      ],
      "execution_count": 47,
      "outputs": [
        {
          "output_type": "execute_result",
          "data": {
            "text/plain": [
              "range(1, 10)"
            ]
          },
          "metadata": {
            "tags": []
          },
          "execution_count": 47
        }
      ]
    },
    {
      "cell_type": "code",
      "metadata": {
        "colab": {
          "base_uri": "https://localhost:8080/"
        },
        "id": "agvCfh7Edmf2",
        "outputId": "75516364-8f63-408f-e983-d57e5dc89865"
      },
      "source": [
        "fruit = [\"aplle\", \"peer\", \"cherry\"]\n",
        "print(type(fruit))      #str, list, tuple, dict,,,, 기타 Iterable object\n",
        "for i in fruit:\n",
        "  print(i)"
      ],
      "execution_count": 48,
      "outputs": [
        {
          "output_type": "stream",
          "text": [
            "<class 'list'>\n",
            "aplle\n",
            "peer\n",
            "cherry\n"
          ],
          "name": "stdout"
        }
      ]
    },
    {
      "cell_type": "code",
      "metadata": {
        "colab": {
          "base_uri": "https://localhost:8080/"
        },
        "id": "54vDQfGHemyW",
        "outputId": "24a0026f-ee9c-456b-b8ef-fc3322c02010"
      },
      "source": [
        "fruit_dict = {\n",
        "    'apple' : 3500,\n",
        "    'peer' : 2500,\n",
        "    'cherry' : 5000\n",
        "}\n",
        "\n",
        "fruit_dict"
      ],
      "execution_count": 50,
      "outputs": [
        {
          "output_type": "execute_result",
          "data": {
            "text/plain": [
              "{'apple': 3500, 'cherry': 5000, 'peer': 2500}"
            ]
          },
          "metadata": {
            "tags": []
          },
          "execution_count": 50
        }
      ]
    },
    {
      "cell_type": "code",
      "metadata": {
        "colab": {
          "base_uri": "https://localhost:8080/"
        },
        "id": "boCeRqUGewwU",
        "outputId": "a397ee58-6af3-471f-c03a-2c6b8f54b9f8"
      },
      "source": [
        "fruit_dict.keys()"
      ],
      "execution_count": 51,
      "outputs": [
        {
          "output_type": "execute_result",
          "data": {
            "text/plain": [
              "dict_keys(['apple', 'peer', 'cherry'])"
            ]
          },
          "metadata": {
            "tags": []
          },
          "execution_count": 51
        }
      ]
    },
    {
      "cell_type": "code",
      "metadata": {
        "colab": {
          "base_uri": "https://localhost:8080/"
        },
        "id": "CLU5yXRPe4kj",
        "outputId": "f73d9d44-14ae-41a8-acc2-cd3bd0865c9e"
      },
      "source": [
        "fruit_dict.values()"
      ],
      "execution_count": 52,
      "outputs": [
        {
          "output_type": "execute_result",
          "data": {
            "text/plain": [
              "dict_values([3500, 2500, 5000])"
            ]
          },
          "metadata": {
            "tags": []
          },
          "execution_count": 52
        }
      ]
    },
    {
      "cell_type": "code",
      "metadata": {
        "colab": {
          "base_uri": "https://localhost:8080/"
        },
        "id": "rH3h0Ep6e9Rq",
        "outputId": "4e5e5599-9530-49e7-affb-ae267044a44b"
      },
      "source": [
        "if('apple' in fruit_dict): print(\"apple\")\n",
        "else: print(\"none\")"
      ],
      "execution_count": 53,
      "outputs": [
        {
          "output_type": "stream",
          "text": [
            "apple\n"
          ],
          "name": "stdout"
        }
      ]
    },
    {
      "cell_type": "code",
      "metadata": {
        "colab": {
          "base_uri": "https://localhost:8080/"
        },
        "id": "gtM8HyUmfIpb",
        "outputId": "3c517699-6459-464d-fc1a-b4788be2c522"
      },
      "source": [
        "for i in fruit_dict.items():\n",
        "  print(i)    ##결과는 튜플로 나온다."
      ],
      "execution_count": 54,
      "outputs": [
        {
          "output_type": "stream",
          "text": [
            "('apple', 3500)\n",
            "('peer', 2500)\n",
            "('cherry', 5000)\n"
          ],
          "name": "stdout"
        }
      ]
    },
    {
      "cell_type": "code",
      "metadata": {
        "id": "qxQMTAUcfTGg"
      },
      "source": [
        ""
      ],
      "execution_count": null,
      "outputs": []
    },
    {
      "cell_type": "markdown",
      "metadata": {
        "id": "HddwJXMUf_SV"
      },
      "source": [
        "###실습. fruit_dict에서 과일명 찾기)\n",
        " 과일 가격이 3000원 보다 큰 과일과 3000원 보다 작은 과일은?\n",
        "1. high에 3000원보다 큰 과일이름\n",
        "2. low에 3000원보다 작은 과일이름\n",
        "3. 작업단계\n",
        "    - high, low 리스트 빈방 만들기\n",
        "    - for문으로 fruit_dict 내용을 하나씩 읽는다.\n",
        "    - if문으로 과일가격 체크 3000원보다 큰것과 작은것\n",
        "    + 크면 -> high에 추가\n",
        "    + 작으면 -> low에 추가\n"
      ]
    },
    {
      "cell_type": "code",
      "metadata": {
        "colab": {
          "base_uri": "https://localhost:8080/"
        },
        "id": "9XBDKzOwgnCP",
        "outputId": "22556015-4d79-4835-f9c8-8fcd8ac512fb"
      },
      "source": [
        "high = []\n",
        "low = []\n",
        "for i in fruit_dict.items():\n",
        "  if(i[1] > 3000): high.append(i[0])\n",
        "  else: low.append(i[0])\n",
        "print(\"high = \", high)\n",
        "print(\"low = \", low)"
      ],
      "execution_count": 64,
      "outputs": [
        {
          "output_type": "stream",
          "text": [
            "high =  ['apple', 'cherry']\n",
            "low =  ['peer']\n"
          ],
          "name": "stdout"
        }
      ]
    },
    {
      "cell_type": "code",
      "metadata": {
        "id": "lGXrivXNg0P3"
      },
      "source": [
        ""
      ],
      "execution_count": null,
      "outputs": []
    }
  ]
}