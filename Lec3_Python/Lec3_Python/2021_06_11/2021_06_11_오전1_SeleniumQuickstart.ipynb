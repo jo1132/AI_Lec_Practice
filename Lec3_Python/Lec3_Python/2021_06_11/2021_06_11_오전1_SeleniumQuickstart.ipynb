{
 "cells": [
  {
   "cell_type": "code",
   "execution_count": 1,
   "id": "2aee6e16",
   "metadata": {},
   "outputs": [],
   "source": [
    "from selenium import webdriver"
   ]
  },
  {
   "cell_type": "code",
   "execution_count": 2,
   "id": "0813c17a",
   "metadata": {},
   "outputs": [],
   "source": [
    "wd = webdriver.Chrome(\"C:/anaconda3/driver/chromedriver.exe\")\n",
    "wd.get(\"https://www.naver.com\")"
   ]
  },
  {
   "cell_type": "code",
   "execution_count": 24,
   "id": "1b1579a1",
   "metadata": {},
   "outputs": [],
   "source": [
    "assert \"NAVER\" in wd.title"
   ]
  },
  {
   "cell_type": "code",
   "execution_count": 29,
   "id": "2951af34",
   "metadata": {},
   "outputs": [],
   "source": [
    "elem = wd.find_element_by_name(\"query\")\n",
    "elem.clear()\n",
    "elem.send_keys(\"NAVER\")"
   ]
  },
  {
   "cell_type": "code",
   "execution_count": 4,
   "id": "a40d44c3",
   "metadata": {},
   "outputs": [],
   "source": [
    "from selenium.webdriver import Chrome\n",
    "from selenium.webdriver.common.keys import Keys\n",
    "\n",
    "driver = Chrome(\"C:/anaconda3/driver/chromedriver.exe\")\n",
    "\n",
    "url = \"http://www.google.com\"\n",
    "driver.get(url)\n"
   ]
  },
  {
   "cell_type": "code",
   "execution_count": 48,
   "id": "46b38d75",
   "metadata": {},
   "outputs": [],
   "source": [
    "search_bar = driver.find_element_by_name(\"q\")   ##검색창 얻어옴\n",
    "search_bar.clear()    # 검색창 클리어\n",
    "search_bar.send_keys(\"google\")   #검색창에 google입력"
   ]
  },
  {
   "cell_type": "code",
   "execution_count": 54,
   "id": "ed3849ff",
   "metadata": {},
   "outputs": [],
   "source": [
    "search_bar.clear()"
   ]
  },
  {
   "cell_type": "code",
   "execution_count": 55,
   "id": "eba26e5d",
   "metadata": {},
   "outputs": [],
   "source": [
    "search_bar.send_keys(\"some word\", Keys.ARROW_DOWN)   #검색창에서 화살표 한칸 아래"
   ]
  },
  {
   "cell_type": "code",
   "execution_count": 56,
   "id": "ba529388",
   "metadata": {},
   "outputs": [],
   "source": [
    "search_bar.clear()"
   ]
  },
  {
   "cell_type": "code",
   "execution_count": 57,
   "id": "eafa713d",
   "metadata": {},
   "outputs": [],
   "source": [
    "search_bar.send_keys(\"고양이\", Keys.ENTER)"
   ]
  },
  {
   "cell_type": "code",
   "execution_count": null,
   "id": "7d3dc1e3",
   "metadata": {},
   "outputs": [],
   "source": []
  },
  {
   "cell_type": "markdown",
   "id": "38f0707c",
   "metadata": {},
   "source": [
    "**한국생산성본부 인강 사이트 자동로그인**"
   ]
  },
  {
   "cell_type": "code",
   "execution_count": 5,
   "id": "eaba096a",
   "metadata": {},
   "outputs": [],
   "source": [
    "driver = Chrome(\"C:/anaconda3/driver/chromedriver.exe\")\n",
    "\n",
    "url = \"https://mlp.kpc.or.kr/login\"\n",
    "driver.get(url)"
   ]
  },
  {
   "cell_type": "code",
   "execution_count": 6,
   "id": "8b04b3da",
   "metadata": {},
   "outputs": [],
   "source": [
    "id_str = driver.find_element_by_name(\"email\")\n",
    "id_str.clear()\n",
    "id_str.send_keys(\"ksk1132@naver.com\")"
   ]
  },
  {
   "cell_type": "code",
   "execution_count": null,
   "id": "994b4703",
   "metadata": {},
   "outputs": [],
   "source": []
  },
  {
   "cell_type": "code",
   "execution_count": 12,
   "id": "51669d17",
   "metadata": {},
   "outputs": [
    {
     "ename": "AttributeError",
     "evalue": "'WebDriver' object has no attribute 'implicity'",
     "output_type": "error",
     "traceback": [
      "\u001b[1;31m---------------------------------------------------------------------------\u001b[0m",
      "\u001b[1;31mAttributeError\u001b[0m                            Traceback (most recent call last)",
      "\u001b[1;32m<ipython-input-12-18204a0ae60c>\u001b[0m in \u001b[0;36m<module>\u001b[1;34m\u001b[0m\n\u001b[0;32m      5\u001b[0m \u001b[0mdriver\u001b[0m \u001b[1;33m=\u001b[0m \u001b[0mChrome\u001b[0m\u001b[1;33m(\u001b[0m\u001b[1;34m\"C:/anaconda3/driver/chromedriver.exe\"\u001b[0m\u001b[1;33m)\u001b[0m\u001b[1;33m\u001b[0m\u001b[1;33m\u001b[0m\u001b[0m\n\u001b[0;32m      6\u001b[0m \u001b[1;31m#time.time(3) #드라이버가 실행되기까지 3초를 무조건 기다림\u001b[0m\u001b[1;33m\u001b[0m\u001b[1;33m\u001b[0m\u001b[1;33m\u001b[0m\u001b[0m\n\u001b[1;32m----> 7\u001b[1;33m \u001b[0mdriver\u001b[0m\u001b[1;33m.\u001b[0m\u001b[0mimplicity\u001b[0m\u001b[1;33m(\u001b[0m\u001b[1;36m3\u001b[0m\u001b[1;33m)\u001b[0m \u001b[1;31m#드라이버가 켜지길 3초간 기다림, 먼저 켜지면 바로 넘어감\u001b[0m\u001b[1;33m\u001b[0m\u001b[1;33m\u001b[0m\u001b[0m\n\u001b[0m\u001b[0;32m      8\u001b[0m \u001b[1;31m#selenium에서 권장\u001b[0m\u001b[1;33m\u001b[0m\u001b[1;33m\u001b[0m\u001b[1;33m\u001b[0m\u001b[0m\n\u001b[0;32m      9\u001b[0m \u001b[1;33m\u001b[0m\u001b[0m\n",
      "\u001b[1;31mAttributeError\u001b[0m: 'WebDriver' object has no attribute 'implicity'"
     ]
    }
   ],
   "source": [
    "from selenium.webdriver import Chrome\n",
    "from selenium.webdriver.common.keys import Keys\n",
    "import time\n",
    "\n",
    "driver = Chrome(\"C:/anaconda3/driver/chromedriver.exe\")\n",
    "#time.time(3) #드라이버가 실행되기까지 3초를 무조건 기다림\n",
    "#driver.implicity(3) #드라이버가 켜지길 3초간 기다림, 먼저 켜지면 바로 넘어감\n",
    "#selenium에서 권장\n",
    "\n",
    "url = \"http://www.google.com\"\n",
    "driver.get(url)"
   ]
  },
  {
   "cell_type": "code",
   "execution_count": null,
   "id": "5f225295",
   "metadata": {},
   "outputs": [],
   "source": []
  },
  {
   "cell_type": "markdown",
   "id": "95d2ab0b",
   "metadata": {},
   "source": [
    "**셀레니움 실습**"
   ]
  },
  {
   "cell_type": "markdown",
   "id": "e24e5290",
   "metadata": {},
   "source": [
    "###** (Selenium실습)**\n",
    "1. 유투브\n",
    "2. 검색어 \"파이썬 데이터 분석\"\n",
    "3. 검색 결과화면을 소스 받기\n",
    "4. "
   ]
  },
  {
   "cell_type": "code",
   "execution_count": 26,
   "id": "88b43a7f",
   "metadata": {},
   "outputs": [],
   "source": [
    "from selenium.webdriver import Chrome\n",
    "from selenium.webdriver.common.keys import Keys\n",
    "import time\n",
    "\n",
    "driver = Chrome(\"C:/anaconda3/driver/chromedriver.exe\")\n",
    "#time.time(3) #드라이버가 실행되기까지 3초를 무조건 기다림\n",
    "driver.implicity_wait(3) #드라이버가 켜지길 3초간 기다림, 먼저 켜지면 바로 넘어감\n",
    "#selenium에서 권장"
   ]
  },
  {
   "cell_type": "code",
   "execution_count": 27,
   "id": "a0599719",
   "metadata": {},
   "outputs": [],
   "source": [
    "url = \"http://www.youtube.com\"\n",
    "driver.get(url)\n"
   ]
  },
  {
   "cell_type": "code",
   "execution_count": 29,
   "id": "47c98e2a",
   "metadata": {},
   "outputs": [],
   "source": [
    "search_bar = driver.find_element_by_name(\"search_query\")\n",
    "search_bar.clear()\n",
    "search_bar.send_keys(\"파이썬 데이터 분석\", Keys.ENTER)"
   ]
  },
  {
   "cell_type": "code",
   "execution_count": 37,
   "id": "4d40af91",
   "metadata": {},
   "outputs": [
    {
     "name": "stdout",
     "output_type": "stream",
     "text": [
      "3818647\n"
     ]
    }
   ],
   "source": [
    "res = driver.page_source    # 유투브 페이지소스 불러오기\n",
    "print(len(res))"
   ]
  },
  {
   "cell_type": "code",
   "execution_count": 44,
   "id": "86a6a829",
   "metadata": {},
   "outputs": [
    {
     "name": "stdout",
     "output_type": "stream",
     "text": [
      "page_down =  0\n",
      "page_down =  1\n",
      "page_down =  2\n",
      "page_down =  3\n",
      "page_down =  4\n",
      "page_down =  5\n",
      "page_down =  6\n",
      "page_down =  7\n",
      "page_down =  8\n",
      "page_down =  9\n"
     ]
    }
   ],
   "source": [
    "#유튜브는 아래로 스크롤 할 수 록 새로운 데이터를 불러오기 때문에 스크롤 할수록 위 값은 늘어날 것이다.\n",
    "import time\n",
    "for page_down in range(10):\n",
    "    search_bar.send_keys(Keys.PAGE_DOWN)\n",
    "    print(\"page_down = \", page_down)\n",
    "    time.sleep(1)"
   ]
  },
  {
   "cell_type": "code",
   "execution_count": 43,
   "id": "a9fb0c51",
   "metadata": {},
   "outputs": [
    {
     "name": "stdout",
     "output_type": "stream",
     "text": [
      "4019913\n"
     ]
    }
   ],
   "source": [
    "res = driver.page_source    # 유투브 페이지소스 불러오기\n",
    "print(len(res))"
   ]
  },
  {
   "cell_type": "code",
   "execution_count": 45,
   "id": "1970d40d",
   "metadata": {},
   "outputs": [
    {
     "name": "stdout",
     "output_type": "stream",
     "text": [
      "4020819\n"
     ]
    }
   ],
   "source": [
    "res = driver.page_source    # 유투브 페이지소스 불러오기\n",
    "print(len(res))"
   ]
  },
  {
   "cell_type": "code",
   "execution_count": null,
   "id": "8afdb4ed",
   "metadata": {},
   "outputs": [],
   "source": []
  }
 ],
 "metadata": {
  "kernelspec": {
   "display_name": "Python 3",
   "language": "python",
   "name": "python3"
  },
  "language_info": {
   "codemirror_mode": {
    "name": "ipython",
    "version": 3
   },
   "file_extension": ".py",
   "mimetype": "text/x-python",
   "name": "python",
   "nbconvert_exporter": "python",
   "pygments_lexer": "ipython3",
   "version": "3.8.8"
  }
 },
 "nbformat": 4,
 "nbformat_minor": 5
}
